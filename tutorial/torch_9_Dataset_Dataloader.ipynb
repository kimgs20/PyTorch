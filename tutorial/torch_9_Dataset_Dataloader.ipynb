{
 "cells": [
  {
   "cell_type": "code",
   "execution_count": 1,
   "metadata": {},
   "outputs": [],
   "source": [
    "import torch\n",
    "import torchvision\n",
    "from torch.utils.data import Dataset, DataLoader\n",
    "\n",
    "import numpy as np\n",
    "import pandas as pd\n",
    "import math"
   ]
  },
  {
   "cell_type": "code",
   "execution_count": 2,
   "metadata": {},
   "outputs": [],
   "source": [
    "class WineDataset(Dataset):\n",
    "\n",
    "    def __init__(self):\n",
    "        # data loading\n",
    "        xy = np.loadtxt('./winedata/wine/wine.csv', delimiter= \",\" , \n",
    "                        dtype=np.float32, skiprows=1)\n",
    "        self.x = torch.from_numpy(xy[:, 1:])  # from second to last column of each row\n",
    "        self.y = torch.from_numpy(xy[:, [0]]) # first column = label\n",
    "        self.n_samples = xy.shape[0]\n",
    "#         print(self.x)\n",
    "#         print(type(self.x)) # torch.Tensor\n",
    "\n",
    "#         잘 안됨 loadtxt랑 read_csv랑 많이 달라서 x,y로 입력 시 오류가 남 \n",
    "#         data_path = './winedata/wine/wine.csv'\n",
    "#         xy = pd.read_csv(data_path, sep=\",\", dtype=np.float32,\n",
    "#                         skiprows=1)#, header=None)\n",
    "#         self.x = torch.from_numpy(xy.iloc[:, 1:]) # first column\n",
    "#         self.y = torch.from_numpy(xy.iloc[:, [0]]) # n_samples, 1\n",
    "#         self.n_samples = xy.shape[0]\n",
    "        \n",
    "    def __len__(self):\n",
    "        # len(dataset)\n",
    "        return self.n_samples\n",
    "        \n",
    "    def __getitem__(self, idx):\n",
    "        # dataset[idx]\n",
    "        return self.x[idx], self.y[idx]\n"
   ]
  },
  {
   "cell_type": "markdown",
   "metadata": {},
   "source": [
    "원본: 178행 14열   \n",
    "첫번째 column이 label   \n",
    "   \n",
    "**잘 안되는 이유**   \n",
    "numpy - torch.Tensor랑 명령어가 서로 잘 안먹히는 듯   "
   ]
  },
  {
   "cell_type": "code",
   "execution_count": 3,
   "metadata": {},
   "outputs": [
    {
     "name": "stdout",
     "output_type": "stream",
     "text": [
      "2\n",
      "13 1\n"
     ]
    }
   ],
   "source": [
    "# Create dataset\n",
    "dataset = WineDataset()\n",
    "\n",
    "first_data = dataset[0] # first row of csv file\n",
    "features, labels = first_data # tuple나누는 문법\n",
    "\n",
    "# print first row of csv file\n",
    "print(len(first_data)) # 2 / 내 생각엔 14여야하는데 아님\n",
    "print(len(features), len(labels)) # 13, 1\n",
    "# 정리: dataset의 첫번째 row를 first_data라는 tuple로 부르는데,\n",
    "# 이때 tuple의 크기를 확인하려고 len을 쓰면 두개로 분류된 tuple이므로 2가 나옴\n",
    "# 그런데 사실은 13개 feature와 1개 label이 나뉘어 진 것임\n",
    "\n",
    "# print(first_data.shape) # 안됨\n",
    "# print(\"features: {}, labels: {}\".format(features.shape, labels.shape))\n",
    "# print(features, labels)"
   ]
  },
  {
   "cell_type": "code",
   "execution_count": 4,
   "metadata": {},
   "outputs": [],
   "source": [
    "dataloader = DataLoader(dataset=dataset,\n",
    "                        batch_size=4,\n",
    "                        shuffle=True,\n",
    "                        num_workers=2)"
   ]
  },
  {
   "cell_type": "code",
   "execution_count": 5,
   "metadata": {},
   "outputs": [],
   "source": [
    "# dataiter = iter(dataloader)\n",
    "# data = dataiter.next()\n",
    "# features, labels = data\n",
    "# print(features, labels)"
   ]
  },
  {
   "cell_type": "code",
   "execution_count": 6,
   "metadata": {},
   "outputs": [
    {
     "name": "stdout",
     "output_type": "stream",
     "text": [
      "178 45\n"
     ]
    }
   ],
   "source": [
    "# training loop\n",
    "num_epochs = 2\n",
    "total_samples = len(dataset)\n",
    "n_iterations = math.ceil(total_samples/4)\n",
    "print(total_samples, n_iterations)"
   ]
  },
  {
   "cell_type": "code",
   "execution_count": 14,
   "metadata": {},
   "outputs": [
    {
     "name": "stdout",
     "output_type": "stream",
     "text": [
      "epoch 1/2, step 5/45,                   inputs torch.Size([4, 13])\n",
      "epoch 1/2, step 10/45,                   inputs torch.Size([4, 13])\n",
      "epoch 1/2, step 15/45,                   inputs torch.Size([4, 13])\n",
      "epoch 1/2, step 20/45,                   inputs torch.Size([4, 13])\n",
      "epoch 1/2, step 25/45,                   inputs torch.Size([4, 13])\n",
      "epoch 1/2, step 30/45,                   inputs torch.Size([4, 13])\n",
      "epoch 1/2, step 35/45,                   inputs torch.Size([4, 13])\n",
      "epoch 1/2, step 40/45,                   inputs torch.Size([4, 13])\n",
      "epoch 1/2, step 45/45,                   inputs torch.Size([2, 13])\n",
      "epoch 2/2, step 5/45,                   inputs torch.Size([4, 13])\n",
      "epoch 2/2, step 10/45,                   inputs torch.Size([4, 13])\n",
      "epoch 2/2, step 15/45,                   inputs torch.Size([4, 13])\n",
      "epoch 2/2, step 20/45,                   inputs torch.Size([4, 13])\n",
      "epoch 2/2, step 25/45,                   inputs torch.Size([4, 13])\n",
      "epoch 2/2, step 30/45,                   inputs torch.Size([4, 13])\n",
      "epoch 2/2, step 35/45,                   inputs torch.Size([4, 13])\n",
      "epoch 2/2, step 40/45,                   inputs torch.Size([4, 13])\n",
      "epoch 2/2, step 45/45,                   inputs torch.Size([2, 13])\n"
     ]
    }
   ],
   "source": [
    "for epoch in range(num_epochs):\n",
    "    for i, (inputs, labels) in enumerate(dataloader):\n",
    "        # inputs, labels are already unpack\n",
    "        # forward backward, update\n",
    "\n",
    "        if (i+1)%5 == 0:\n",
    "            print(f'epoch {epoch+1}/{num_epochs}, step {i+1}/{n_iterations}, \\\n",
    "                  inputs {inputs.shape}')"
   ]
  }
 ],
 "metadata": {
  "kernelspec": {
   "display_name": "Python 3",
   "language": "python",
   "name": "python3"
  },
  "language_info": {
   "codemirror_mode": {
    "name": "ipython",
    "version": 3
   },
   "file_extension": ".py",
   "mimetype": "text/x-python",
   "name": "python",
   "nbconvert_exporter": "python",
   "pygments_lexer": "ipython3",
   "version": "3.7.9"
  }
 },
 "nbformat": 4,
 "nbformat_minor": 4
}
